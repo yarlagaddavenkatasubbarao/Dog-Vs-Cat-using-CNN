{
 "cells": [
  {
   "cell_type": "code",
   "execution_count": 49,
   "metadata": {},
   "outputs": [],
   "source": [
    "import tensorflow as tf\n",
    "from keras.preprocessing.image import ImageDataGenerator"
   ]
  },
  {
   "cell_type": "code",
   "execution_count": 50,
   "metadata": {},
   "outputs": [
    {
     "name": "stdout",
     "output_type": "stream",
     "text": [
      "Found 8000 images belonging to 2 classes.\n"
     ]
    }
   ],
   "source": [
    "train_datagen = ImageDataGenerator(rescale = 1./255,\n",
    "                                   shear_range = 0.2,\n",
    "                                   zoom_range = 0.2,\n",
    "                                   horizontal_flip = True)\n",
    "training_set = train_datagen.flow_from_directory('dataset/training_set',\n",
    "                                                 target_size = (64, 64),\n",
    "                                                 batch_size = 32,\n",
    "                                                 class_mode = 'binary')"
   ]
  },
  {
   "cell_type": "code",
   "execution_count": 51,
   "metadata": {},
   "outputs": [
    {
     "name": "stdout",
     "output_type": "stream",
     "text": [
      "Found 2000 images belonging to 2 classes.\n"
     ]
    }
   ],
   "source": [
    "test_datagen = ImageDataGenerator(rescale = 1./255)\n",
    "test_set = test_datagen.flow_from_directory('dataset/test_set',\n",
    "                                            target_size = (64, 64),\n",
    "                                            batch_size = 32,\n",
    "                                            class_mode = 'binary')"
   ]
  },
  {
   "cell_type": "code",
   "execution_count": 52,
   "metadata": {},
   "outputs": [],
   "source": [
    "cnn = tf.keras.models.Sequential()"
   ]
  },
  {
   "cell_type": "code",
   "execution_count": 53,
   "metadata": {},
   "outputs": [],
   "source": [
    "cnn.add(tf.keras.layers.Conv2D(filters=32, kernel_size=3, activation='relu', input_shape=[64, 64, 3]))"
   ]
  },
  {
   "cell_type": "code",
   "execution_count": 54,
   "metadata": {},
   "outputs": [],
   "source": [
    "cnn.add(tf.keras.layers.MaxPool2D(pool_size=2, strides=2))"
   ]
  },
  {
   "cell_type": "code",
   "execution_count": 55,
   "metadata": {},
   "outputs": [],
   "source": [
    "cnn.add(tf.keras.layers.Conv2D(filters=32, kernel_size=3, activation='relu'))\n",
    "cnn.add(tf.keras.layers.MaxPool2D(pool_size=2, strides=2))"
   ]
  },
  {
   "cell_type": "code",
   "execution_count": 56,
   "metadata": {},
   "outputs": [],
   "source": [
    "cnn.add(tf.keras.layers.Flatten())"
   ]
  },
  {
   "cell_type": "code",
   "execution_count": 57,
   "metadata": {},
   "outputs": [],
   "source": [
    "cnn.add(tf.keras.layers.Dense(units=128, activation='relu'))"
   ]
  },
  {
   "cell_type": "code",
   "execution_count": 58,
   "metadata": {},
   "outputs": [],
   "source": [
    "cnn.add(tf.keras.layers.Dense(units=1, activation='sigmoid'))"
   ]
  },
  {
   "cell_type": "code",
   "execution_count": 59,
   "metadata": {},
   "outputs": [],
   "source": [
    "# Trainning CNN\n",
    "\n",
    "cnn.compile(optimizer = 'adam', loss = 'binary_crossentropy', metrics = ['accuracy'])"
   ]
  },
  {
   "cell_type": "code",
   "execution_count": 60,
   "metadata": {},
   "outputs": [
    {
     "name": "stdout",
     "output_type": "stream",
     "text": [
      "Epoch 1/25\n",
      "63/63 [==============================] - 25s 401ms/step - loss: 0.6371 - acc: 0.6740\n",
      "250/250 [==============================] - 232s 928ms/step - loss: 0.6663 - acc: 0.5817 - val_loss: 0.6371 - val_acc: 0.6740\n",
      "Epoch 2/25\n",
      "63/63 [==============================] - 5s 80ms/step - loss: 0.5905 - acc: 0.6885\n",
      "250/250 [==============================] - 49s 198ms/step - loss: 0.6017 - acc: 0.6795 - val_loss: 0.5905 - val_acc: 0.6885\n",
      "Epoch 3/25\n",
      "63/63 [==============================] - 6s 90ms/step - loss: 0.5489 - acc: 0.7250: 2s - lo\n",
      "250/250 [==============================] - 55s 221ms/step - loss: 0.5572 - acc: 0.7092 - val_loss: 0.5489 - val_acc: 0.7250\n",
      "Epoch 4/25\n",
      "63/63 [==============================] - 4s 70ms/step - loss: 0.5156 - acc: 0.7405\n",
      "250/250 [==============================] - 46s 185ms/step - loss: 0.5206 - acc: 0.7421 - val_loss: 0.5156 - val_acc: 0.7405\n",
      "Epoch 5/25\n",
      "63/63 [==============================] - 4s 69ms/step - loss: 0.5159 - acc: 0.7515\n",
      "250/250 [==============================] - 44s 175ms/step - loss: 0.5089 - acc: 0.7492 - val_loss: 0.5159 - val_acc: 0.7515\n",
      "Epoch 6/25\n",
      "63/63 [==============================] - 4s 71ms/step - loss: 0.4988 - acc: 0.7620: 0s - loss: 0.5005 - acc:\n",
      "250/250 [==============================] - 44s 177ms/step - loss: 0.4799 - acc: 0.7671 - val_loss: 0.4988 - val_acc: 0.7620\n",
      "Epoch 7/25\n",
      "63/63 [==============================] - 4s 70ms/step - loss: 0.4989 - acc: 0.7635: 1s - loss\n",
      "250/250 [==============================] - 44s 177ms/step - loss: 0.4706 - acc: 0.7763 - val_loss: 0.4989 - val_acc: 0.7635\n",
      "Epoch 8/25\n",
      "63/63 [==============================] - 4s 69ms/step - loss: 0.4690 - acc: 0.7745\n",
      "250/250 [==============================] - 44s 177ms/step - loss: 0.4569 - acc: 0.7865 - val_loss: 0.4690 - val_acc: 0.7745\n",
      "Epoch 9/25\n",
      "63/63 [==============================] - 5s 84ms/step - loss: 0.4941 - acc: 0.7670\n",
      "250/250 [==============================] - 46s 183ms/step - loss: 0.4413 - acc: 0.7894 - val_loss: 0.4941 - val_acc: 0.7670\n",
      "Epoch 10/25\n",
      "63/63 [==============================] - 4s 71ms/step - loss: 0.4920 - acc: 0.7715\n",
      "250/250 [==============================] - 46s 185ms/step - loss: 0.4248 - acc: 0.7966 - val_loss: 0.4920 - val_acc: 0.7715\n",
      "Epoch 11/25\n",
      "63/63 [==============================] - 5s 74ms/step - loss: 0.4588 - acc: 0.7985\n",
      "250/250 [==============================] - 46s 184ms/step - loss: 0.4147 - acc: 0.8075 - val_loss: 0.4588 - val_acc: 0.7985\n",
      "Epoch 12/25\n",
      "63/63 [==============================] - 5s 72ms/step - loss: 0.4591 - acc: 0.8030\n",
      "250/250 [==============================] - 46s 184ms/step - loss: 0.4053 - acc: 0.8161 - val_loss: 0.4591 - val_acc: 0.8030\n",
      "Epoch 13/25\n",
      "63/63 [==============================] - 4s 70ms/step - loss: 0.4661 - acc: 0.8015\n",
      "250/250 [==============================] - 47s 186ms/step - loss: 0.3844 - acc: 0.8226 - val_loss: 0.4661 - val_acc: 0.8015\n",
      "Epoch 14/25\n",
      "63/63 [==============================] - 5s 73ms/step - loss: 0.4897 - acc: 0.7765\n",
      "250/250 [==============================] - 47s 187ms/step - loss: 0.3691 - acc: 0.8325 - val_loss: 0.4897 - val_acc: 0.7765\n",
      "Epoch 15/25\n",
      "63/63 [==============================] - 4s 70ms/step - loss: 0.4746 - acc: 0.7920\n",
      "250/250 [==============================] - 46s 183ms/step - loss: 0.3527 - acc: 0.8411 - val_loss: 0.4746 - val_acc: 0.7920\n",
      "Epoch 16/25\n",
      "63/63 [==============================] - 4s 69ms/step - loss: 0.4541 - acc: 0.8120\n",
      "250/250 [==============================] - 45s 181ms/step - loss: 0.3440 - acc: 0.8496 - val_loss: 0.4541 - val_acc: 0.8120\n",
      "Epoch 17/25\n",
      "63/63 [==============================] - 4s 64ms/step - loss: 0.4514 - acc: 0.8190\n",
      "250/250 [==============================] - 45s 178ms/step - loss: 0.3284 - acc: 0.8572 - val_loss: 0.4514 - val_acc: 0.8190\n",
      "Epoch 18/25\n",
      "63/63 [==============================] - 4s 69ms/step - loss: 0.4573 - acc: 0.8155\n",
      "250/250 [==============================] - 44s 176ms/step - loss: 0.3244 - acc: 0.8545 - val_loss: 0.4573 - val_acc: 0.8155\n",
      "Epoch 19/25\n",
      "63/63 [==============================] - 4s 69ms/step - loss: 0.5072 - acc: 0.7915\n",
      "250/250 [==============================] - 45s 182ms/step - loss: 0.3053 - acc: 0.8687 - val_loss: 0.5072 - val_acc: 0.7915\n",
      "Epoch 20/25\n",
      "63/63 [==============================] - 4s 68ms/step - loss: 0.4706 - acc: 0.8175\n",
      "250/250 [==============================] - 46s 182ms/step - loss: 0.2948 - acc: 0.8735 - val_loss: 0.4706 - val_acc: 0.8175\n",
      "Epoch 21/25\n",
      "63/63 [==============================] - 5s 85ms/step - loss: 0.4829 - acc: 0.8030\n",
      "250/250 [==============================] - 49s 197ms/step - loss: 0.2781 - acc: 0.8808 - val_loss: 0.4829 - val_acc: 0.8030\n",
      "Epoch 22/25\n",
      "63/63 [==============================] - 5s 73ms/step - loss: 0.5475 - acc: 0.7910\n",
      "250/250 [==============================] - 50s 200ms/step - loss: 0.2691 - acc: 0.8874 - val_loss: 0.5475 - val_acc: 0.7910\n",
      "Epoch 23/25\n",
      "63/63 [==============================] - 4s 69ms/step - loss: 0.5322 - acc: 0.7960: 0s - loss: 0.5290 - acc: 0.\n",
      "250/250 [==============================] - 47s 186ms/step - loss: 0.2621 - acc: 0.8885 - val_loss: 0.5322 - val_acc: 0.7960\n",
      "Epoch 24/25\n",
      "63/63 [==============================] - 4s 70ms/step - loss: 0.5014 - acc: 0.7945: 1s - loss: 0.506\n",
      "250/250 [==============================] - 46s 183ms/step - loss: 0.2390 - acc: 0.9025 - val_loss: 0.5014 - val_acc: 0.7945\n",
      "Epoch 25/25\n",
      "63/63 [==============================] - 4s 70ms/step - loss: 0.7333 - acc: 0.7510\n",
      "250/250 [==============================] - 45s 182ms/step - loss: 0.2264 - acc: 0.9057 - val_loss: 0.7333 - val_acc: 0.7510\n"
     ]
    },
    {
     "data": {
      "text/plain": [
       "<tensorflow.python.keras.callbacks.History at 0x23e63cec898>"
      ]
     },
     "execution_count": 60,
     "metadata": {},
     "output_type": "execute_result"
    }
   ],
   "source": [
    "cnn.fit(x = training_set, validation_data = test_set, epochs = 25)"
   ]
  },
  {
   "cell_type": "code",
   "execution_count": 66,
   "metadata": {},
   "outputs": [
    {
     "name": "stdout",
     "output_type": "stream",
     "text": [
      "cat\n"
     ]
    }
   ],
   "source": [
    "import numpy as np\n",
    "from keras.preprocessing import image\n",
    "test_image = image.load_img('dataset/single_prediction/cat_or_dog_4.jpg', target_size = (64, 64))\n",
    "test_image = image.img_to_array(test_image)\n",
    "test_image = np.expand_dims(test_image, axis = 0)\n",
    "result = cnn.predict(test_image)\n",
    "training_set.class_indices\n",
    "if result[0][0] == 1:\n",
    "  prediction = 'dog'\n",
    "else:\n",
    "  prediction = 'cat'\n",
    "\n",
    "print(prediction)"
   ]
  },
  {
   "cell_type": "code",
   "execution_count": null,
   "metadata": {},
   "outputs": [],
   "source": []
  }
 ],
 "metadata": {
  "kernelspec": {
   "display_name": "Python 3",
   "language": "python",
   "name": "python3"
  },
  "language_info": {
   "codemirror_mode": {
    "name": "ipython",
    "version": 3
   },
   "file_extension": ".py",
   "mimetype": "text/x-python",
   "name": "python",
   "nbconvert_exporter": "python",
   "pygments_lexer": "ipython3",
   "version": "3.6.6"
  }
 },
 "nbformat": 4,
 "nbformat_minor": 2
}
